{
 "cells": [
  {
   "cell_type": "code",
   "execution_count": 1,
   "metadata": {},
   "outputs": [],
   "source": [
    "# function to write string backward"
   ]
  },
  {
   "cell_type": "code",
   "execution_count": 34,
   "metadata": {},
   "outputs": [],
   "source": [
    "def rev():\n",
    "    a=input(\"Enter the string : \")\n",
    "    b=list(a)\n",
    "    c=[]\n",
    "    for i in range(len(b)-1,-1,-1):\n",
    "        c.append(b[i])\n",
    "    return(\"\".join(c))"
   ]
  },
  {
   "cell_type": "code",
   "execution_count": 1,
   "metadata": {},
   "outputs": [],
   "source": [
    "a=\"Bhavna\""
   ]
  },
  {
   "cell_type": "code",
   "execution_count": 2,
   "metadata": {},
   "outputs": [
    {
     "data": {
      "text/plain": [
       "'anvahB'"
      ]
     },
     "execution_count": 2,
     "metadata": {},
     "output_type": "execute_result"
    }
   ],
   "source": [
    "a[::-1]"
   ]
  },
  {
   "cell_type": "code",
   "execution_count": null,
   "metadata": {},
   "outputs": [],
   "source": []
  },
  {
   "cell_type": "code",
   "execution_count": 36,
   "metadata": {},
   "outputs": [
    {
     "name": "stdin",
     "output_type": "stream",
     "text": [
      "Enter the string :  Tarun Tyagi\n"
     ]
    },
    {
     "data": {
      "text/plain": [
       "'igayT nuraT'"
      ]
     },
     "execution_count": 36,
     "metadata": {},
     "output_type": "execute_result"
    }
   ],
   "source": [
    "rev()"
   ]
  },
  {
   "cell_type": "code",
   "execution_count": null,
   "metadata": {},
   "outputs": [],
   "source": []
  },
  {
   "cell_type": "code",
   "execution_count": 37,
   "metadata": {},
   "outputs": [],
   "source": [
    "# function to identify pairs that add up to a certain number"
   ]
  },
  {
   "cell_type": "code",
   "execution_count": 59,
   "metadata": {},
   "outputs": [],
   "source": [
    "def pairsum():\n",
    "    a=[0,1,2,3,4,5,6,7,8,9]\n",
    "    b=int(input(\"Enter the target sum : \"))\n",
    "    c=[]\n",
    "    for i in a:\n",
    "        for j in a:\n",
    "            if i+j==b:\n",
    "                c.append([i,j])\n",
    "    return(c)"
   ]
  },
  {
   "cell_type": "code",
   "execution_count": 60,
   "metadata": {},
   "outputs": [
    {
     "name": "stdin",
     "output_type": "stream",
     "text": [
      "Enter the target sum :  5\n"
     ]
    },
    {
     "data": {
      "text/plain": [
       "[[0, 5], [1, 4], [2, 3], [3, 2], [4, 1], [5, 0]]"
      ]
     },
     "execution_count": 60,
     "metadata": {},
     "output_type": "execute_result"
    }
   ],
   "source": [
    "pairsum()"
   ]
  },
  {
   "cell_type": "code",
   "execution_count": null,
   "metadata": {},
   "outputs": [],
   "source": []
  },
  {
   "cell_type": "code",
   "execution_count": 53,
   "metadata": {},
   "outputs": [],
   "source": [
    "# function to input two list by user and print them in descending order after appending them "
   ]
  },
  {
   "cell_type": "code",
   "execution_count": 55,
   "metadata": {},
   "outputs": [],
   "source": [
    "def listap():\n",
    "    a=int(input(\"enter the length of the list1\"))\n",
    "    b=int(input(\"enter the length of list2\"))\n",
    "    print(\"enter the elements of list 1\")\n",
    "    c=[]\n",
    "    d=[]\n",
    "    for i in range(0,a):\n",
    "        x=int(input(\"enter element for list 1: \"))\n",
    "        c.append(x)\n",
    "    for i in range(0,b):\n",
    "        y=int(input(\"enter element for list 2: \"))\n",
    "        d.append(y)\n",
    "    print(\"list1 u input : \",c)\n",
    "    print(\"list2 u input : \",d)\n",
    "    e=c+d\n",
    "    e.sort(reverse=True)\n",
    "    return e"
   ]
  },
  {
   "cell_type": "code",
   "execution_count": 56,
   "metadata": {},
   "outputs": [
    {
     "name": "stdin",
     "output_type": "stream",
     "text": [
      "enter the length of the list1 2\n",
      "enter the length of list2 2\n"
     ]
    },
    {
     "name": "stdout",
     "output_type": "stream",
     "text": [
      "enter the elements of list 1\n"
     ]
    },
    {
     "name": "stdin",
     "output_type": "stream",
     "text": [
      "enter element for list 1:  135\n",
      "enter element for list 1:  54\n",
      "enter element for list 2:  1684\n",
      "enter element for list 2:  52\n"
     ]
    },
    {
     "name": "stdout",
     "output_type": "stream",
     "text": [
      "list1 u input :  [135, 54]\n",
      "list2 u input :  [1684, 52]\n"
     ]
    },
    {
     "data": {
      "text/plain": [
       "[1684, 135, 54, 52]"
      ]
     },
     "execution_count": 56,
     "metadata": {},
     "output_type": "execute_result"
    }
   ],
   "source": [
    "listap()"
   ]
  },
  {
   "cell_type": "code",
   "execution_count": 57,
   "metadata": {},
   "outputs": [],
   "source": [
    "# checking whether the string os palindrome or not"
   ]
  },
  {
   "cell_type": "code",
   "execution_count": 72,
   "metadata": {},
   "outputs": [],
   "source": [
    "def palin():\n",
    "    a=input(\"Enter the string\")\n",
    "    x=list(a)\n",
    "    b=[]\n",
    "    for i in range(len(x)-1,-1,-1):\n",
    "        b.append(x[i])\n",
    "    c=\"\".join(b)\n",
    "    if a==c:\n",
    "        print(\"The string is palindrome\")\n",
    "    else:\n",
    "        print(\"The string is not palindrome\")"
   ]
  },
  {
   "cell_type": "code",
   "execution_count": 73,
   "metadata": {},
   "outputs": [
    {
     "name": "stdin",
     "output_type": "stream",
     "text": [
      "Enter the string nitin\n"
     ]
    },
    {
     "name": "stdout",
     "output_type": "stream",
     "text": [
      "nitin\n",
      "The string is palindrome\n"
     ]
    }
   ],
   "source": [
    "palin()"
   ]
  },
  {
   "cell_type": "code",
   "execution_count": 74,
   "metadata": {},
   "outputs": [],
   "source": [
    "# Enter elements into list but only integers else throw error and try again"
   ]
  },
  {
   "cell_type": "code",
   "execution_count": 9,
   "metadata": {},
   "outputs": [
    {
     "name": "stdin",
     "output_type": "stream",
     "text": [
      "Enter the length of list 4\n",
      "enter the element :  1\n",
      "enter the element :  2\n",
      "enter the element :  3\n",
      "enter the element :  4\n"
     ]
    },
    {
     "name": "stdout",
     "output_type": "stream",
     "text": [
      "[1.0, 2.0, 3.0, 4.0]\n"
     ]
    }
   ],
   "source": [
    "x=[]\n",
    "a=int(input(\"Enter the length of list\"))\n",
    "i=1\n",
    "while i<=a:\n",
    "    x.append(float(input(\"enter the element : \")))\n",
    "    i=i+1\n",
    "print(x)"
   ]
  },
  {
   "cell_type": "code",
   "execution_count": null,
   "metadata": {},
   "outputs": [],
   "source": []
  }
 ],
 "metadata": {
  "kernelspec": {
   "display_name": "Python 3",
   "language": "python",
   "name": "python3"
  },
  "language_info": {
   "codemirror_mode": {
    "name": "ipython",
    "version": 3
   },
   "file_extension": ".py",
   "mimetype": "text/x-python",
   "name": "python",
   "nbconvert_exporter": "python",
   "pygments_lexer": "ipython3",
   "version": "3.7.3"
  }
 },
 "nbformat": 4,
 "nbformat_minor": 4
}
